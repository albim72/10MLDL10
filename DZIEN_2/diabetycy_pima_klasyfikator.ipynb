{
 "cells":[
  {
   "cell_type":"code",
   "source":[
    "import pandas as pd\n",
    "from sklearn.tree import DecisionTreeClassifier\n",
    "from sklearn.model_selection import train_test_split\n",
    "from sklearn import metrics"
   ],
   "execution_count":1,
   "outputs":[],
   "metadata":{
    "datalore":{
     "node_id":"jcjZ2ZRmjkyVrIzbUs77MU",
     "type":"CODE",
     "hide_input_from_viewers":true,
     "hide_output_from_viewers":true
    }
   }
  },
  {
   "cell_type":"code",
   "source":[
    "col_names = ['pregnant','glucose','bp','skin','insulin','bmi','pedigree','age','label']"
   ],
   "execution_count":2,
   "outputs":[],
   "metadata":{
    "datalore":{
     "node_id":"QzPu39LEjQu4nwHs9JcHZu",
     "type":"CODE",
     "hide_input_from_viewers":true,
     "hide_output_from_viewers":true
    }
   }
  },
  {
   "cell_type":"code",
   "source":[
    "pima = pd.read_csv('diabetes_pima.csv',header=None,names=col_names)\n",
    "print(pima.head(7))"
   ],
   "execution_count":3,
   "outputs":[
    {
     "name":"stdout",
     "text":[
      "   pregnant  glucose  bp  skin  insulin   bmi  pedigree  age  label\n",
      "0         6      148  72    35        0  33.6     0.627   50      1\n",
      "1         1       85  66    29        0  26.6     0.351   31      0\n",
      "2         8      183  64     0        0  23.3     0.672   32      1\n",
      "3         1       89  66    23       94  28.1     0.167   21      0\n",
      "4         0      137  40    35      168  43.1     2.288   33      1\n",
      "5         5      116  74     0        0  25.6     0.201   30      0\n",
      "6         3       78  50    32       88  31.0     0.248   26      1\n"
     ],
     "output_type":"stream"
    }
   ],
   "metadata":{
    "datalore":{
     "node_id":"p3tpbcv97I4wtKc4RP95nV",
     "type":"CODE",
     "hide_input_from_viewers":true,
     "hide_output_from_viewers":true
    }
   }
  },
  {
   "cell_type":"code",
   "source":[
    "feature_cols = ['pregnant','insulin','bmi','age','glucose','bp','pedigree']"
   ],
   "execution_count":4,
   "outputs":[],
   "metadata":{
    "datalore":{
     "node_id":"rGuznLg1aajvFYgNpT0LyD",
     "type":"CODE",
     "hide_input_from_viewers":true,
     "hide_output_from_viewers":true
    }
   }
  },
  {
   "cell_type":"code",
   "source":[
    "X = pima[feature_cols]\n",
    "y = pima.label"
   ],
   "execution_count":5,
   "outputs":[],
   "metadata":{
    "datalore":{
     "node_id":"6ZQ67DuILVBZL8AGTJ6yVD",
     "type":"CODE",
     "hide_input_from_viewers":true,
     "hide_output_from_viewers":true
    }
   }
  },
  {
   "cell_type":"code",
   "source":[
    "X_train,X_test,y_train,y_test = train_test_split(X,y,test_size=0.25,random_state=1)"
   ],
   "execution_count":6,
   "outputs":[],
   "metadata":{
    "datalore":{
     "node_id":"oD9jGq0si6MAZIsAa4c614",
     "type":"CODE",
     "hide_input_from_viewers":true,
     "hide_output_from_viewers":true
    }
   }
  },
  {
   "cell_type":"code",
   "source":[
    "clf = DecisionTreeClassifier()\n",
    "clf = clf.fit(X_train,y_train)"
   ],
   "execution_count":7,
   "outputs":[],
   "metadata":{
    "datalore":{
     "node_id":"OgV9qEo5PEur8DLZfBgjrC",
     "type":"CODE",
     "hide_input_from_viewers":true,
     "hide_output_from_viewers":true
    }
   }
  },
  {
   "cell_type":"code",
   "source":[
    "y_pred = clf.predict(X_test)"
   ],
   "execution_count":8,
   "outputs":[],
   "metadata":{
    "datalore":{
     "node_id":"hZqUdrt3c3k4sTrwC1Kley",
     "type":"CODE",
     "hide_input_from_viewers":true,
     "hide_output_from_viewers":true
    }
   }
  },
  {
   "cell_type":"code",
   "source":[
    "print(f'Accuracy (dokładność): {metrics.accuracy_score(y_test,y_pred)}')"
   ],
   "execution_count":9,
   "outputs":[
    {
     "name":"stdout",
     "text":[
      "Accuracy (dokładność): 0.7135416666666666\n"
     ],
     "output_type":"stream"
    }
   ],
   "metadata":{
    "datalore":{
     "node_id":"LjZ0GrW1kr7A9H9wYI0Sw9",
     "type":"CODE",
     "hide_input_from_viewers":true,
     "hide_output_from_viewers":true
    }
   }
  }
 ],
 "metadata":{
  "kernelspec":{
   "display_name":"Python",
   "language":"python",
   "name":"python"
  },
  "datalore":{
   "computation_mode":"JUPYTER",
   "package_manager":"pip",
   "base_environment":"default",
   "packages":[],
   "report_row_ids":[],
   "version":3
  }
 },
 "nbformat":4,
 "nbformat_minor":4
}