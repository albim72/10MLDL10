{
 "cells":[
  {
   "cell_type":"code",
   "source":[
    "import pandas as pd"
   ],
   "execution_count":1,
   "outputs":[],
   "metadata":{
    "datalore":{
     "node_id":"CTrsqIvAWpzkKG0Mcud7mA",
     "type":"CODE",
     "hide_input_from_viewers":true,
     "hide_output_from_viewers":true
    }
   }
  },
  {
   "cell_type":"code",
   "source":[
    "unames = ['user_id','gender','age','occupation','zip']\n",
    "users = pd.read_table('dane\/users.dat',engine='python',sep='::',header=None,names=unames)\n",
    "\n",
    "rnames = ['user_id','movie_id','rating','timestamp']\n",
    "ratings = pd.read_table('dane\/ratings.dat',engine='python',sep='::',header=None,names=rnames)\n",
    "\n",
    "mnames = ['movie_id','title','genres']\n",
    "movies = pd.read_table('dane\/movies.dat',engine='python',encoding='ISO-8859-1',sep='::',header=None,names=mnames)"
   ],
   "execution_count":2,
   "outputs":[],
   "metadata":{
    "datalore":{
     "node_id":"y4C1lXn4jKatcBDxUWDXQE",
     "type":"CODE",
     "hide_input_from_viewers":true,
     "hide_output_from_viewers":true
    }
   }
  },
  {
   "cell_type":"code",
   "source":[
    "users[:5]"
   ],
   "execution_count":3,
   "outputs":[
    {
     "data":{
      "text\/html":[
       "<div>\n",
       "<style scoped>\n",
       "    .dataframe tbody tr th:only-of-type {\n",
       "        vertical-align: middle;\n",
       "    }\n",
       "\n",
       "    .dataframe tbody tr th {\n",
       "        vertical-align: top;\n",
       "    }\n",
       "\n",
       "    .dataframe thead th {\n",
       "        text-align: right;\n",
       "    }\n",
       "<\/style>\n",
       "<table border=\"1\" class=\"dataframe\">\n",
       "  <thead>\n",
       "    <tr style=\"text-align: right;\">\n",
       "      <th><\/th>\n",
       "      <th>user_id<\/th>\n",
       "      <th>gender<\/th>\n",
       "      <th>age<\/th>\n",
       "      <th>occupation<\/th>\n",
       "      <th>zip<\/th>\n",
       "    <\/tr>\n",
       "  <\/thead>\n",
       "  <tbody>\n",
       "    <tr>\n",
       "      <th>0<\/th>\n",
       "      <td>1<\/td>\n",
       "      <td>F<\/td>\n",
       "      <td>1<\/td>\n",
       "      <td>10<\/td>\n",
       "      <td>48067<\/td>\n",
       "    <\/tr>\n",
       "    <tr>\n",
       "      <th>1<\/th>\n",
       "      <td>2<\/td>\n",
       "      <td>M<\/td>\n",
       "      <td>56<\/td>\n",
       "      <td>16<\/td>\n",
       "      <td>70072<\/td>\n",
       "    <\/tr>\n",
       "    <tr>\n",
       "      <th>2<\/th>\n",
       "      <td>3<\/td>\n",
       "      <td>M<\/td>\n",
       "      <td>25<\/td>\n",
       "      <td>15<\/td>\n",
       "      <td>55117<\/td>\n",
       "    <\/tr>\n",
       "    <tr>\n",
       "      <th>3<\/th>\n",
       "      <td>4<\/td>\n",
       "      <td>M<\/td>\n",
       "      <td>45<\/td>\n",
       "      <td>7<\/td>\n",
       "      <td>02460<\/td>\n",
       "    <\/tr>\n",
       "    <tr>\n",
       "      <th>4<\/th>\n",
       "      <td>5<\/td>\n",
       "      <td>M<\/td>\n",
       "      <td>25<\/td>\n",
       "      <td>20<\/td>\n",
       "      <td>55455<\/td>\n",
       "    <\/tr>\n",
       "  <\/tbody>\n",
       "<\/table>\n",
       "<\/div>"
      ]
     },
     "metadata":{},
     "output_type":"display_data"
    }
   ],
   "metadata":{
    "datalore":{
     "node_id":"T400oHcLUJSCX5TMbjRLBC",
     "type":"CODE",
     "hide_input_from_viewers":true,
     "hide_output_from_viewers":true
    }
   }
  },
  {
   "cell_type":"code",
   "source":[
    "\n",
    "import chardet\n",
    "\n",
    "# Funkcja do sprawdzenia kodowania pliku\n",
    "def check_file_encoding(file_path):\n",
    "    with open(file_path, 'rb') as file:\n",
    "        raw_data = file.read()\n",
    "        result = chardet.detect(raw_data)\n",
    "        encoding = result['encoding']\n",
    "        confidence = result['confidence']\n",
    "        \n",
    "    return encoding, confidence\n",
    "\n",
    "# Przykład użycia\n",
    "file_path = 'dane\/movies.dat'\n",
    "encoding, confidence = check_file_encoding(file_path)\n",
    "print(f\"Kodowanie: {encoding}, Pewność: {confidence:.2f}\")\n"
   ],
   "execution_count":5,
   "outputs":[
    {
     "name":"stdout",
     "text":[
      "Kodowanie: ISO-8859-1, Pewność: 0.73\n"
     ],
     "output_type":"stream"
    }
   ],
   "metadata":{
    "datalore":{
     "node_id":"Mqa6eqaPcwq0OwKY5QfQYl",
     "type":"CODE",
     "hide_input_from_viewers":true,
     "hide_output_from_viewers":true
    }
   }
  },
  {
   "cell_type":"code",
   "source":[
    "ratings[:5]"
   ],
   "execution_count":6,
   "outputs":[
    {
     "data":{
      "text\/html":[
       "<div>\n",
       "<style scoped>\n",
       "    .dataframe tbody tr th:only-of-type {\n",
       "        vertical-align: middle;\n",
       "    }\n",
       "\n",
       "    .dataframe tbody tr th {\n",
       "        vertical-align: top;\n",
       "    }\n",
       "\n",
       "    .dataframe thead th {\n",
       "        text-align: right;\n",
       "    }\n",
       "<\/style>\n",
       "<table border=\"1\" class=\"dataframe\">\n",
       "  <thead>\n",
       "    <tr style=\"text-align: right;\">\n",
       "      <th><\/th>\n",
       "      <th>user_id<\/th>\n",
       "      <th>movie_id<\/th>\n",
       "      <th>rating<\/th>\n",
       "      <th>timestamp<\/th>\n",
       "    <\/tr>\n",
       "  <\/thead>\n",
       "  <tbody>\n",
       "    <tr>\n",
       "      <th>0<\/th>\n",
       "      <td>1<\/td>\n",
       "      <td>1193<\/td>\n",
       "      <td>5<\/td>\n",
       "      <td>978300760<\/td>\n",
       "    <\/tr>\n",
       "    <tr>\n",
       "      <th>1<\/th>\n",
       "      <td>1<\/td>\n",
       "      <td>661<\/td>\n",
       "      <td>3<\/td>\n",
       "      <td>978302109<\/td>\n",
       "    <\/tr>\n",
       "    <tr>\n",
       "      <th>2<\/th>\n",
       "      <td>1<\/td>\n",
       "      <td>914<\/td>\n",
       "      <td>3<\/td>\n",
       "      <td>978301968<\/td>\n",
       "    <\/tr>\n",
       "    <tr>\n",
       "      <th>3<\/th>\n",
       "      <td>1<\/td>\n",
       "      <td>3408<\/td>\n",
       "      <td>4<\/td>\n",
       "      <td>978300275<\/td>\n",
       "    <\/tr>\n",
       "    <tr>\n",
       "      <th>4<\/th>\n",
       "      <td>1<\/td>\n",
       "      <td>2355<\/td>\n",
       "      <td>5<\/td>\n",
       "      <td>978824291<\/td>\n",
       "    <\/tr>\n",
       "  <\/tbody>\n",
       "<\/table>\n",
       "<\/div>"
      ]
     },
     "metadata":{},
     "output_type":"display_data"
    }
   ],
   "metadata":{
    "datalore":{
     "node_id":"XOwkjJXSeEXHWsUIrZme3o",
     "type":"CODE",
     "hide_input_from_viewers":true,
     "hide_output_from_viewers":true
    }
   }
  },
  {
   "cell_type":"code",
   "source":[
    "movies[:5]"
   ],
   "execution_count":7,
   "outputs":[
    {
     "data":{
      "text\/html":[
       "<div>\n",
       "<style scoped>\n",
       "    .dataframe tbody tr th:only-of-type {\n",
       "        vertical-align: middle;\n",
       "    }\n",
       "\n",
       "    .dataframe tbody tr th {\n",
       "        vertical-align: top;\n",
       "    }\n",
       "\n",
       "    .dataframe thead th {\n",
       "        text-align: right;\n",
       "    }\n",
       "<\/style>\n",
       "<table border=\"1\" class=\"dataframe\">\n",
       "  <thead>\n",
       "    <tr style=\"text-align: right;\">\n",
       "      <th><\/th>\n",
       "      <th>movie_id<\/th>\n",
       "      <th>title<\/th>\n",
       "      <th>genres<\/th>\n",
       "    <\/tr>\n",
       "  <\/thead>\n",
       "  <tbody>\n",
       "    <tr>\n",
       "      <th>0<\/th>\n",
       "      <td>1<\/td>\n",
       "      <td>Toy Story (1995)<\/td>\n",
       "      <td>Animation|Children's|Comedy<\/td>\n",
       "    <\/tr>\n",
       "    <tr>\n",
       "      <th>1<\/th>\n",
       "      <td>2<\/td>\n",
       "      <td>Jumanji (1995)<\/td>\n",
       "      <td>Adventure|Children's|Fantasy<\/td>\n",
       "    <\/tr>\n",
       "    <tr>\n",
       "      <th>2<\/th>\n",
       "      <td>3<\/td>\n",
       "      <td>Grumpier Old Men (1995)<\/td>\n",
       "      <td>Comedy|Romance<\/td>\n",
       "    <\/tr>\n",
       "    <tr>\n",
       "      <th>3<\/th>\n",
       "      <td>4<\/td>\n",
       "      <td>Waiting to Exhale (1995)<\/td>\n",
       "      <td>Comedy|Drama<\/td>\n",
       "    <\/tr>\n",
       "    <tr>\n",
       "      <th>4<\/th>\n",
       "      <td>5<\/td>\n",
       "      <td>Father of the Bride Part II (1995)<\/td>\n",
       "      <td>Comedy<\/td>\n",
       "    <\/tr>\n",
       "  <\/tbody>\n",
       "<\/table>\n",
       "<\/div>"
      ]
     },
     "metadata":{},
     "output_type":"display_data"
    }
   ],
   "metadata":{
    "datalore":{
     "node_id":"85dXbcGuHM4hAcffRI77W5",
     "type":"CODE",
     "hide_input_from_viewers":true,
     "hide_output_from_viewers":true
    }
   }
  },
  {
   "cell_type":"code",
   "source":[
    "data = pd.merge(pd.merge(ratings,users),movies)\n",
    "data[:10]"
   ],
   "execution_count":8,
   "outputs":[
    {
     "data":{
      "text\/html":[
       "<div>\n",
       "<style scoped>\n",
       "    .dataframe tbody tr th:only-of-type {\n",
       "        vertical-align: middle;\n",
       "    }\n",
       "\n",
       "    .dataframe tbody tr th {\n",
       "        vertical-align: top;\n",
       "    }\n",
       "\n",
       "    .dataframe thead th {\n",
       "        text-align: right;\n",
       "    }\n",
       "<\/style>\n",
       "<table border=\"1\" class=\"dataframe\">\n",
       "  <thead>\n",
       "    <tr style=\"text-align: right;\">\n",
       "      <th><\/th>\n",
       "      <th>user_id<\/th>\n",
       "      <th>movie_id<\/th>\n",
       "      <th>rating<\/th>\n",
       "      <th>timestamp<\/th>\n",
       "      <th>gender<\/th>\n",
       "      <th>age<\/th>\n",
       "      <th>occupation<\/th>\n",
       "      <th>zip<\/th>\n",
       "      <th>title<\/th>\n",
       "      <th>genres<\/th>\n",
       "    <\/tr>\n",
       "  <\/thead>\n",
       "  <tbody>\n",
       "    <tr>\n",
       "      <th>0<\/th>\n",
       "      <td>1<\/td>\n",
       "      <td>1193<\/td>\n",
       "      <td>5<\/td>\n",
       "      <td>978300760<\/td>\n",
       "      <td>F<\/td>\n",
       "      <td>1<\/td>\n",
       "      <td>10<\/td>\n",
       "      <td>48067<\/td>\n",
       "      <td>One Flew Over the Cuckoo's Nest (1975)<\/td>\n",
       "      <td>Drama<\/td>\n",
       "    <\/tr>\n",
       "    <tr>\n",
       "      <th>1<\/th>\n",
       "      <td>2<\/td>\n",
       "      <td>1193<\/td>\n",
       "      <td>5<\/td>\n",
       "      <td>978298413<\/td>\n",
       "      <td>M<\/td>\n",
       "      <td>56<\/td>\n",
       "      <td>16<\/td>\n",
       "      <td>70072<\/td>\n",
       "      <td>One Flew Over the Cuckoo's Nest (1975)<\/td>\n",
       "      <td>Drama<\/td>\n",
       "    <\/tr>\n",
       "    <tr>\n",
       "      <th>2<\/th>\n",
       "      <td>12<\/td>\n",
       "      <td>1193<\/td>\n",
       "      <td>4<\/td>\n",
       "      <td>978220179<\/td>\n",
       "      <td>M<\/td>\n",
       "      <td>25<\/td>\n",
       "      <td>12<\/td>\n",
       "      <td>32793<\/td>\n",
       "      <td>One Flew Over the Cuckoo's Nest (1975)<\/td>\n",
       "      <td>Drama<\/td>\n",
       "    <\/tr>\n",
       "    <tr>\n",
       "      <th>3<\/th>\n",
       "      <td>15<\/td>\n",
       "      <td>1193<\/td>\n",
       "      <td>4<\/td>\n",
       "      <td>978199279<\/td>\n",
       "      <td>M<\/td>\n",
       "      <td>25<\/td>\n",
       "      <td>7<\/td>\n",
       "      <td>22903<\/td>\n",
       "      <td>One Flew Over the Cuckoo's Nest (1975)<\/td>\n",
       "      <td>Drama<\/td>\n",
       "    <\/tr>\n",
       "    <tr>\n",
       "      <th>4<\/th>\n",
       "      <td>17<\/td>\n",
       "      <td>1193<\/td>\n",
       "      <td>5<\/td>\n",
       "      <td>978158471<\/td>\n",
       "      <td>M<\/td>\n",
       "      <td>50<\/td>\n",
       "      <td>1<\/td>\n",
       "      <td>95350<\/td>\n",
       "      <td>One Flew Over the Cuckoo's Nest (1975)<\/td>\n",
       "      <td>Drama<\/td>\n",
       "    <\/tr>\n",
       "    <tr>\n",
       "      <th>5<\/th>\n",
       "      <td>18<\/td>\n",
       "      <td>1193<\/td>\n",
       "      <td>4<\/td>\n",
       "      <td>978156168<\/td>\n",
       "      <td>F<\/td>\n",
       "      <td>18<\/td>\n",
       "      <td>3<\/td>\n",
       "      <td>95825<\/td>\n",
       "      <td>One Flew Over the Cuckoo's Nest (1975)<\/td>\n",
       "      <td>Drama<\/td>\n",
       "    <\/tr>\n",
       "    <tr>\n",
       "      <th>6<\/th>\n",
       "      <td>19<\/td>\n",
       "      <td>1193<\/td>\n",
       "      <td>5<\/td>\n",
       "      <td>982730936<\/td>\n",
       "      <td>M<\/td>\n",
       "      <td>1<\/td>\n",
       "      <td>10<\/td>\n",
       "      <td>48073<\/td>\n",
       "      <td>One Flew Over the Cuckoo's Nest (1975)<\/td>\n",
       "      <td>Drama<\/td>\n",
       "    <\/tr>\n",
       "    <tr>\n",
       "      <th>7<\/th>\n",
       "      <td>24<\/td>\n",
       "      <td>1193<\/td>\n",
       "      <td>5<\/td>\n",
       "      <td>978136709<\/td>\n",
       "      <td>F<\/td>\n",
       "      <td>25<\/td>\n",
       "      <td>7<\/td>\n",
       "      <td>10023<\/td>\n",
       "      <td>One Flew Over the Cuckoo's Nest (1975)<\/td>\n",
       "      <td>Drama<\/td>\n",
       "    <\/tr>\n",
       "    <tr>\n",
       "      <th>8<\/th>\n",
       "      <td>28<\/td>\n",
       "      <td>1193<\/td>\n",
       "      <td>3<\/td>\n",
       "      <td>978125194<\/td>\n",
       "      <td>F<\/td>\n",
       "      <td>25<\/td>\n",
       "      <td>1<\/td>\n",
       "      <td>14607<\/td>\n",
       "      <td>One Flew Over the Cuckoo's Nest (1975)<\/td>\n",
       "      <td>Drama<\/td>\n",
       "    <\/tr>\n",
       "    <tr>\n",
       "      <th>9<\/th>\n",
       "      <td>33<\/td>\n",
       "      <td>1193<\/td>\n",
       "      <td>5<\/td>\n",
       "      <td>978557765<\/td>\n",
       "      <td>M<\/td>\n",
       "      <td>45<\/td>\n",
       "      <td>3<\/td>\n",
       "      <td>55421<\/td>\n",
       "      <td>One Flew Over the Cuckoo's Nest (1975)<\/td>\n",
       "      <td>Drama<\/td>\n",
       "    <\/tr>\n",
       "  <\/tbody>\n",
       "<\/table>\n",
       "<\/div>"
      ]
     },
     "metadata":{},
     "output_type":"display_data"
    }
   ],
   "metadata":{
    "datalore":{
     "node_id":"3hjrv5yOU8oGd0zYbIZhFo",
     "type":"CODE",
     "hide_input_from_viewers":true,
     "hide_output_from_viewers":true
    }
   }
  },
  {
   "cell_type":"code",
   "source":[
    "mean_ratings = data.pivot_table('rating',index='title',columns='gender',aggfunc='mean')\n",
    "mean_ratings[:10]"
   ],
   "execution_count":9,
   "outputs":[
    {
     "data":{
      "text\/html":[
       "<div>\n",
       "<style scoped>\n",
       "    .dataframe tbody tr th:only-of-type {\n",
       "        vertical-align: middle;\n",
       "    }\n",
       "\n",
       "    .dataframe tbody tr th {\n",
       "        vertical-align: top;\n",
       "    }\n",
       "\n",
       "    .dataframe thead th {\n",
       "        text-align: right;\n",
       "    }\n",
       "<\/style>\n",
       "<table border=\"1\" class=\"dataframe\">\n",
       "  <thead>\n",
       "    <tr style=\"text-align: right;\">\n",
       "      <th>gender<\/th>\n",
       "      <th>F<\/th>\n",
       "      <th>M<\/th>\n",
       "    <\/tr>\n",
       "    <tr>\n",
       "      <th>title<\/th>\n",
       "      <th><\/th>\n",
       "      <th><\/th>\n",
       "    <\/tr>\n",
       "  <\/thead>\n",
       "  <tbody>\n",
       "    <tr>\n",
       "      <th>$1,000,000 Duck (1971)<\/th>\n",
       "      <td>3.375000<\/td>\n",
       "      <td>2.761905<\/td>\n",
       "    <\/tr>\n",
       "    <tr>\n",
       "      <th>'Night Mother (1986)<\/th>\n",
       "      <td>3.388889<\/td>\n",
       "      <td>3.352941<\/td>\n",
       "    <\/tr>\n",
       "    <tr>\n",
       "      <th>'Til There Was You (1997)<\/th>\n",
       "      <td>2.675676<\/td>\n",
       "      <td>2.733333<\/td>\n",
       "    <\/tr>\n",
       "    <tr>\n",
       "      <th>'burbs, The (1989)<\/th>\n",
       "      <td>2.793478<\/td>\n",
       "      <td>2.962085<\/td>\n",
       "    <\/tr>\n",
       "    <tr>\n",
       "      <th>...And Justice for All (1979)<\/th>\n",
       "      <td>3.828571<\/td>\n",
       "      <td>3.689024<\/td>\n",
       "    <\/tr>\n",
       "    <tr>\n",
       "      <th>1-900 (1994)<\/th>\n",
       "      <td>2.000000<\/td>\n",
       "      <td>3.000000<\/td>\n",
       "    <\/tr>\n",
       "    <tr>\n",
       "      <th>10 Things I Hate About You (1999)<\/th>\n",
       "      <td>3.646552<\/td>\n",
       "      <td>3.311966<\/td>\n",
       "    <\/tr>\n",
       "    <tr>\n",
       "      <th>101 Dalmatians (1961)<\/th>\n",
       "      <td>3.791444<\/td>\n",
       "      <td>3.500000<\/td>\n",
       "    <\/tr>\n",
       "    <tr>\n",
       "      <th>101 Dalmatians (1996)<\/th>\n",
       "      <td>3.240000<\/td>\n",
       "      <td>2.911215<\/td>\n",
       "    <\/tr>\n",
       "    <tr>\n",
       "      <th>12 Angry Men (1957)<\/th>\n",
       "      <td>4.184397<\/td>\n",
       "      <td>4.328421<\/td>\n",
       "    <\/tr>\n",
       "  <\/tbody>\n",
       "<\/table>\n",
       "<\/div>"
      ]
     },
     "metadata":{},
     "output_type":"display_data"
    }
   ],
   "metadata":{
    "datalore":{
     "node_id":"reBMobTIoYxDuSgCeS2JBd",
     "type":"CODE",
     "hide_input_from_viewers":true,
     "hide_output_from_viewers":true
    }
   }
  },
  {
   "cell_type":"code",
   "source":[
    "ratings_by_title = data.groupby('title').size()\n",
    "ratings_by_title[:10]"
   ],
   "execution_count":10,
   "outputs":[
    {
     "data":{
      "text\/html":[
       "<pre>title\n",
       "$1,000,000 Duck (1971)                37\n",
       "'Night Mother (1986)                  70\n",
       "'Til There Was You (1997)             52\n",
       "'burbs, The (1989)                   303\n",
       "...And Justice for All (1979)        199\n",
       "1-900 (1994)                           2\n",
       "10 Things I Hate About You (1999)    700\n",
       "101 Dalmatians (1961)                565\n",
       "101 Dalmatians (1996)                364\n",
       "12 Angry Men (1957)                  616\n",
       "dtype: int64<\/pre>"
      ]
     },
     "metadata":{},
     "output_type":"display_data"
    }
   ],
   "metadata":{
    "datalore":{
     "node_id":"bbRWql7IE9BuvqjP6jPQoC",
     "type":"CODE",
     "hide_input_from_viewers":true,
     "hide_output_from_viewers":true
    }
   }
  },
  {
   "cell_type":"code",
   "source":[
    "active_titles = ratings_by_title.index[ratings_by_title>=250]\n",
    "active_titles[:10]"
   ],
   "execution_count":11,
   "outputs":[
    {
     "data":{
      "text\/plain":[
       "Index([''burbs, The (1989)', '10 Things I Hate About You (1999)',\n",
       "       '101 Dalmatians (1961)', '101 Dalmatians (1996)', '12 Angry Men (1957)',\n",
       "       '13th Warrior, The (1999)', '2 Days in the Valley (1996)',\n",
       "       '20,000 Leagues Under the Sea (1954)', '2001: A Space Odyssey (1968)',\n",
       "       '2010 (1984)'],\n",
       "      dtype='object', name='title')"
      ]
     },
     "metadata":{},
     "output_type":"display_data"
    }
   ],
   "metadata":{
    "datalore":{
     "node_id":"QsD1QWtu8zph7Gm4KlcjT1",
     "type":"CODE",
     "hide_input_from_viewers":true,
     "hide_output_from_viewers":true
    }
   }
  },
  {
   "cell_type":"code",
   "source":[
    "mean_ratings = mean_ratings.loc[active_titles]\n",
    "mean_ratings[:10]"
   ],
   "execution_count":12,
   "outputs":[
    {
     "data":{
      "text\/html":[
       "<div>\n",
       "<style scoped>\n",
       "    .dataframe tbody tr th:only-of-type {\n",
       "        vertical-align: middle;\n",
       "    }\n",
       "\n",
       "    .dataframe tbody tr th {\n",
       "        vertical-align: top;\n",
       "    }\n",
       "\n",
       "    .dataframe thead th {\n",
       "        text-align: right;\n",
       "    }\n",
       "<\/style>\n",
       "<table border=\"1\" class=\"dataframe\">\n",
       "  <thead>\n",
       "    <tr style=\"text-align: right;\">\n",
       "      <th>gender<\/th>\n",
       "      <th>F<\/th>\n",
       "      <th>M<\/th>\n",
       "    <\/tr>\n",
       "    <tr>\n",
       "      <th>title<\/th>\n",
       "      <th><\/th>\n",
       "      <th><\/th>\n",
       "    <\/tr>\n",
       "  <\/thead>\n",
       "  <tbody>\n",
       "    <tr>\n",
       "      <th>'burbs, The (1989)<\/th>\n",
       "      <td>2.793478<\/td>\n",
       "      <td>2.962085<\/td>\n",
       "    <\/tr>\n",
       "    <tr>\n",
       "      <th>10 Things I Hate About You (1999)<\/th>\n",
       "      <td>3.646552<\/td>\n",
       "      <td>3.311966<\/td>\n",
       "    <\/tr>\n",
       "    <tr>\n",
       "      <th>101 Dalmatians (1961)<\/th>\n",
       "      <td>3.791444<\/td>\n",
       "      <td>3.500000<\/td>\n",
       "    <\/tr>\n",
       "    <tr>\n",
       "      <th>101 Dalmatians (1996)<\/th>\n",
       "      <td>3.240000<\/td>\n",
       "      <td>2.911215<\/td>\n",
       "    <\/tr>\n",
       "    <tr>\n",
       "      <th>12 Angry Men (1957)<\/th>\n",
       "      <td>4.184397<\/td>\n",
       "      <td>4.328421<\/td>\n",
       "    <\/tr>\n",
       "    <tr>\n",
       "      <th>13th Warrior, The (1999)<\/th>\n",
       "      <td>3.112000<\/td>\n",
       "      <td>3.168000<\/td>\n",
       "    <\/tr>\n",
       "    <tr>\n",
       "      <th>2 Days in the Valley (1996)<\/th>\n",
       "      <td>3.488889<\/td>\n",
       "      <td>3.244813<\/td>\n",
       "    <\/tr>\n",
       "    <tr>\n",
       "      <th>20,000 Leagues Under the Sea (1954)<\/th>\n",
       "      <td>3.670103<\/td>\n",
       "      <td>3.709205<\/td>\n",
       "    <\/tr>\n",
       "    <tr>\n",
       "      <th>2001: A Space Odyssey (1968)<\/th>\n",
       "      <td>3.825581<\/td>\n",
       "      <td>4.129738<\/td>\n",
       "    <\/tr>\n",
       "    <tr>\n",
       "      <th>2010 (1984)<\/th>\n",
       "      <td>3.446809<\/td>\n",
       "      <td>3.413712<\/td>\n",
       "    <\/tr>\n",
       "  <\/tbody>\n",
       "<\/table>\n",
       "<\/div>"
      ]
     },
     "metadata":{},
     "output_type":"display_data"
    }
   ],
   "metadata":{
    "datalore":{
     "node_id":"6vb3xI6WLjm9k0j8UlTgQf",
     "type":"CODE",
     "hide_input_from_viewers":true,
     "hide_output_from_viewers":true
    }
   }
  }
 ],
 "metadata":{
  "kernelspec":{
   "display_name":"Python",
   "language":"python",
   "name":"python"
  },
  "datalore":{
   "computation_mode":"JUPYTER",
   "package_manager":"pip",
   "base_environment":"default",
   "packages":[
    {
     "name":"chardet",
     "version":"5.2.0",
     "source":"PIP"
    }
   ],
   "report_row_ids":[],
   "version":3
  }
 },
 "nbformat":4,
 "nbformat_minor":4
}